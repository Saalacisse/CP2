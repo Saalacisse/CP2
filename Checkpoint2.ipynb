{
 "cells": [
  {
   "cell_type": "code",
   "execution_count": 10,
   "id": "7bd5b7e2",
   "metadata": {},
   "outputs": [
    {
     "name": "stdout",
     "output_type": "stream",
     "text": [
      "Quel est ton prénom ? Marème\n"
     ]
    }
   ],
   "source": [
    "#Question 1 : Write a Python program that accepts the user's first and last name, and prints them in reverse order \n",
    "# with a space between them.\n",
    "\n",
    "Prénom = input(\"Quel est ton prénom ? \")"
   ]
  },
  {
   "cell_type": "code",
   "execution_count": 12,
   "id": "cf5903e3",
   "metadata": {},
   "outputs": [
    {
     "name": "stdout",
     "output_type": "stream",
     "text": [
      "Quel est ton nom ? CISSE\n"
     ]
    }
   ],
   "source": [
    "Nom = input(\"Quel est ton nom ? \")"
   ]
  },
  {
   "cell_type": "code",
   "execution_count": 19,
   "id": "af7e802f",
   "metadata": {},
   "outputs": [
    {
     "name": "stdout",
     "output_type": "stream",
     "text": [
      "Nom Prénom : CISSE Marème\n"
     ]
    }
   ],
   "source": [
    "print(\"Nom\"+\" \"+\"Prénom :\", Nom +\" \" +Prénom)"
   ]
  },
  {
   "cell_type": "code",
   "execution_count": 50,
   "id": "da8b6bed",
   "metadata": {},
   "outputs": [
    {
     "name": "stdout",
     "output_type": "stream",
     "text": [
      "Donnez-moi un nombre :5\n"
     ]
    }
   ],
   "source": [
    "#Question 2 : Write a Python program that accepts an integer (n) and computes the value of n+nn+nnn. \n",
    "#The sample value of n is 5.\n",
    "\n",
    "n = int(input(\"Donnez-moi un nombre :\"))"
   ]
  },
  {
   "cell_type": "code",
   "execution_count": 51,
   "id": "0f0534dc",
   "metadata": {},
   "outputs": [],
   "source": [
    "Total = n+(10*n+n)+(100*n+10*n+n)"
   ]
  },
  {
   "cell_type": "code",
   "execution_count": 52,
   "id": "733f8919",
   "metadata": {},
   "outputs": [
    {
     "name": "stdout",
     "output_type": "stream",
     "text": [
      "615\n"
     ]
    }
   ],
   "source": [
    "print(Total)"
   ]
  },
  {
   "cell_type": "code",
   "execution_count": 2,
   "id": "81761c1e",
   "metadata": {},
   "outputs": [
    {
     "name": "stdout",
     "output_type": "stream",
     "text": [
      "Donnez-moi un nombre :10\n"
     ]
    }
   ],
   "source": [
    "#Question 3 : Write a Python program to find whether a given number (accept from the user) is even or odd, \n",
    "# and print out an appropriate message to the user.\n",
    "\n",
    "n=int(input(\"Donnez-moi un nombre :\"))"
   ]
  },
  {
   "cell_type": "code",
   "execution_count": 10,
   "id": "4f8cabc9",
   "metadata": {},
   "outputs": [
    {
     "name": "stdout",
     "output_type": "stream",
     "text": [
      "Ce nombre est pair\n"
     ]
    }
   ],
   "source": [
    "if(n%2==0):\n",
    "    print(\"Ce nombre est pair\")\n",
    "else:\n",
    "    print(\"Ce nombre est impair\")"
   ]
  },
  {
   "cell_type": "code",
   "execution_count": 2,
   "id": "59a246cd",
   "metadata": {},
   "outputs": [
    {
     "name": "stdout",
     "output_type": "stream",
     "text": [
      "2002 2009 2016 2023 2037 2044 2051 2058 2072 2079 2086 2093 2107 2114 2121 2128 2142 2149 2156 2163 2177 2184 2191 2198 2212 2219 2226 2233 2247 2254 2261 2268 2282 2289 2296 2303 2317 2324 2331 2338 2352 2359 2366 2373 2387 2394 2401 2408 2422 2429 2436 2443 2457 2464 2471 2478 2492 2499 2506 2513 2527 2534 2541 2548 2562 2569 2576 2583 2597 2604 2611 2618 2632 2639 2646 2653 2667 2674 2681 2688 2702 2709 2716 2723 2737 2744 2751 2758 2772 2779 2786 2793 2807 2814 2821 2828 2842 2849 2856 2863 2877 2884 2891 2898 2912 2919 2926 2933 2947 2954 2961 2968 2982 2989 2996 3003 3017 3024 3031 3038 3052 3059 3066 3073 3087 3094 3101 3108 3122 3129 3136 3143 3157 3164 3171 3178 3192 3199 "
     ]
    }
   ],
   "source": [
    "#question 4 : Write a program which will find all such numbers which are divisible by 7 but are not a multiple of 5, \n",
    "# between 2000 and 3200 (both included). The numbers obtained should be printed in a sequence on a single line.\n",
    "\n",
    "for n in range(2000,3201):\n",
    "    if(n%7==0) and (n%5!=0):\n",
    "        print(n, end=\" \")"
   ]
  },
  {
   "cell_type": "code",
   "execution_count": 60,
   "id": "26f99ba5",
   "metadata": {},
   "outputs": [
    {
     "name": "stdout",
     "output_type": "stream",
     "text": [
      "Donnez-moi un nombre: 8\n",
      "40320\n"
     ]
    }
   ],
   "source": [
    "#Question 5 : Write a program that can compute the factorial of a given number. \n",
    "#The results should be printed in a sequence on a single line. Suppose the following input is supplied to the program: 8. \n",
    "#Then, the output should be: 40320 \n",
    "\n",
    "def factoriel(n) :\n",
    "    if n==0:\n",
    "        return 1\n",
    "    else:\n",
    "        return n*factoriel(n-1)\n",
    "n=int(input(\"Donnez-moi un nombre: \"))\n",
    "print (factoriel(n))"
   ]
  },
  {
   "cell_type": "code",
   "execution_count": 23,
   "id": "e9428e8b",
   "metadata": {},
   "outputs": [
    {
     "name": "stdout",
     "output_type": "stream",
     "text": [
      "Donnez-moi un string : hello team\n"
     ]
    }
   ],
   "source": [
    "#Question 6 : Write a program to remove the characters which have odd index values of a given string.\n",
    "\n",
    "# For example: string =\"hello team\" - The result should be: hlota\n",
    "\n",
    "str = input(\"Donnez-moi un string : \")"
   ]
  },
  {
   "cell_type": "code",
   "execution_count": 24,
   "id": "71a7cad4",
   "metadata": {},
   "outputs": [
    {
     "name": "stdout",
     "output_type": "stream",
     "text": [
      "h h l l o o t t a a "
     ]
    }
   ],
   "source": [
    "for x in range(len(str)):\n",
    "    if x%2==0:\n",
    "        résultat = str[x]\n",
    "    print (résultat,end=\" \")"
   ]
  },
  {
   "cell_type": "code",
   "execution_count": 18,
   "id": "f04e458e",
   "metadata": {},
   "outputs": [
    {
     "name": "stdout",
     "output_type": "stream",
     "text": [
      "Donnez-moi le prix 600\n"
     ]
    }
   ],
   "source": [
    "#Question 7 : In this challenge, you must discount a price according to its value.\n",
    "\n",
    "#- If the price is 500 or above, there will be a 50% discount.\n",
    "\n",
    "#- If the price is between 200 and 500 (200 inclusive), there will be a 30% discount.\n",
    "\n",
    "#- If the price is less than 200, there will be a 10% discount. \n",
    "\n",
    "price = int(input(\"Donnez-moi le prix \"))"
   ]
  },
  {
   "cell_type": "code",
   "execution_count": 49,
   "id": "9d4d2eb7",
   "metadata": {},
   "outputs": [
    {
     "name": "stdout",
     "output_type": "stream",
     "text": [
      "Vous avez 50% de réduction :  300.0\n"
     ]
    }
   ],
   "source": [
    "if price>=500:\n",
    "    Total = price*50/100\n",
    "    print(\"Vous avez 50% de réduction : \",price*50/100)\n",
    "    \n",
    "elif price>=200 and price<=500:\n",
    "    Total = price*70/100\n",
    "    print (\"Vous avez 30% de réduction : \",price*70/100)\n",
    "    \n",
    "else:\n",
    "    Total = price*90/100\n",
    "    print (\"Vous avez 10% de réduction : \",price*90/100)"
   ]
  },
  {
   "cell_type": "code",
   "execution_count": null,
   "id": "6c4aa80c",
   "metadata": {},
   "outputs": [],
   "source": []
  }
 ],
 "metadata": {
  "kernelspec": {
   "display_name": "Python 3 (ipykernel)",
   "language": "python",
   "name": "python3"
  },
  "language_info": {
   "codemirror_mode": {
    "name": "ipython",
    "version": 3
   },
   "file_extension": ".py",
   "mimetype": "text/x-python",
   "name": "python",
   "nbconvert_exporter": "python",
   "pygments_lexer": "ipython3",
   "version": "3.9.13"
  }
 },
 "nbformat": 4,
 "nbformat_minor": 5
}
